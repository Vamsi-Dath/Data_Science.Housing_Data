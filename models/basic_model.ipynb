{
 "cells": [
  {
   "cell_type": "code",
   "execution_count": 205,
   "metadata": {},
   "outputs": [],
   "source": [
    "import numpy as np \n",
    "import pandas as pd\n",
    "import matplotlib.pyplot as plt\n",
    "from statsmodels.tsa.arima.model import ARIMA\n",
    "from statsmodels.graphics.tsaplots import plot_acf, plot_pacf\n",
    "from statsmodels.tsa.stattools import adfuller\n"
   ]
  },
  {
   "cell_type": "code",
   "execution_count": 234,
   "metadata": {},
   "outputs": [
    {
     "data": {
      "text/html": [
       "<div>\n",
       "<style scoped>\n",
       "    .dataframe tbody tr th:only-of-type {\n",
       "        vertical-align: middle;\n",
       "    }\n",
       "\n",
       "    .dataframe tbody tr th {\n",
       "        vertical-align: top;\n",
       "    }\n",
       "\n",
       "    .dataframe thead th {\n",
       "        text-align: right;\n",
       "    }\n",
       "</style>\n",
       "<table border=\"1\" class=\"dataframe\">\n",
       "  <thead>\n",
       "    <tr style=\"text-align: right;\">\n",
       "      <th></th>\n",
       "      <th>RegionID</th>\n",
       "      <th>SizeRank</th>\n",
       "      <th>RegionName</th>\n",
       "      <th>RegionType</th>\n",
       "      <th>StateName</th>\n",
       "      <th>State</th>\n",
       "      <th>City</th>\n",
       "      <th>Metro</th>\n",
       "      <th>CountyName</th>\n",
       "      <th>2000-01-31</th>\n",
       "      <th>...</th>\n",
       "      <th>2023-12-31</th>\n",
       "      <th>2024-01-31</th>\n",
       "      <th>2024-02-29</th>\n",
       "      <th>2024-03-31</th>\n",
       "      <th>2024-04-30</th>\n",
       "      <th>2024-05-31</th>\n",
       "      <th>2024-06-30</th>\n",
       "      <th>2024-07-31</th>\n",
       "      <th>2024-08-31</th>\n",
       "      <th>2024-09-30</th>\n",
       "    </tr>\n",
       "  </thead>\n",
       "  <tbody>\n",
       "    <tr>\n",
       "      <th>0</th>\n",
       "      <td>91982</td>\n",
       "      <td>1</td>\n",
       "      <td>77494</td>\n",
       "      <td>zip</td>\n",
       "      <td>TX</td>\n",
       "      <td>TX</td>\n",
       "      <td>Katy</td>\n",
       "      <td>Houston-The Woodlands-Sugar Land, TX</td>\n",
       "      <td>Fort Bend County</td>\n",
       "      <td>210115.649133</td>\n",
       "      <td>...</td>\n",
       "      <td>487417.408782</td>\n",
       "      <td>488792.727435</td>\n",
       "      <td>490953.961843</td>\n",
       "      <td>493764.629294</td>\n",
       "      <td>496284.689998</td>\n",
       "      <td>497597.965629</td>\n",
       "      <td>497904.508357</td>\n",
       "      <td>497525.166064</td>\n",
       "      <td>497932.811213</td>\n",
       "      <td>498624.058988</td>\n",
       "    </tr>\n",
       "    <tr>\n",
       "      <th>1</th>\n",
       "      <td>61148</td>\n",
       "      <td>2</td>\n",
       "      <td>8701</td>\n",
       "      <td>zip</td>\n",
       "      <td>NJ</td>\n",
       "      <td>NJ</td>\n",
       "      <td>Lakewood</td>\n",
       "      <td>New York-Newark-Jersey City, NY-NJ-PA</td>\n",
       "      <td>Ocean County</td>\n",
       "      <td>138190.224310</td>\n",
       "      <td>...</td>\n",
       "      <td>587035.721219</td>\n",
       "      <td>588629.641020</td>\n",
       "      <td>591203.603657</td>\n",
       "      <td>596333.583567</td>\n",
       "      <td>604688.550311</td>\n",
       "      <td>612076.603761</td>\n",
       "      <td>617531.871790</td>\n",
       "      <td>622433.089855</td>\n",
       "      <td>627699.846638</td>\n",
       "      <td>633902.162029</td>\n",
       "    </tr>\n",
       "    <tr>\n",
       "      <th>2</th>\n",
       "      <td>91940</td>\n",
       "      <td>3</td>\n",
       "      <td>77449</td>\n",
       "      <td>zip</td>\n",
       "      <td>TX</td>\n",
       "      <td>TX</td>\n",
       "      <td>Katy</td>\n",
       "      <td>Houston-The Woodlands-Sugar Land, TX</td>\n",
       "      <td>Harris County</td>\n",
       "      <td>103030.935699</td>\n",
       "      <td>...</td>\n",
       "      <td>276821.427264</td>\n",
       "      <td>277174.536177</td>\n",
       "      <td>277871.353968</td>\n",
       "      <td>278961.940193</td>\n",
       "      <td>279916.177474</td>\n",
       "      <td>280446.900967</td>\n",
       "      <td>280407.399117</td>\n",
       "      <td>280174.421115</td>\n",
       "      <td>279993.811959</td>\n",
       "      <td>279806.751424</td>\n",
       "    </tr>\n",
       "    <tr>\n",
       "      <th>3</th>\n",
       "      <td>62080</td>\n",
       "      <td>4</td>\n",
       "      <td>11368</td>\n",
       "      <td>zip</td>\n",
       "      <td>NY</td>\n",
       "      <td>NY</td>\n",
       "      <td>New York</td>\n",
       "      <td>New York-Newark-Jersey City, NY-NJ-PA</td>\n",
       "      <td>Queens County</td>\n",
       "      <td>149541.567251</td>\n",
       "      <td>...</td>\n",
       "      <td>454925.742157</td>\n",
       "      <td>452068.717877</td>\n",
       "      <td>450448.651203</td>\n",
       "      <td>453539.551510</td>\n",
       "      <td>458095.452458</td>\n",
       "      <td>462764.716450</td>\n",
       "      <td>463474.489325</td>\n",
       "      <td>462960.352042</td>\n",
       "      <td>462321.216661</td>\n",
       "      <td>463290.574508</td>\n",
       "    </tr>\n",
       "    <tr>\n",
       "      <th>4</th>\n",
       "      <td>91733</td>\n",
       "      <td>5</td>\n",
       "      <td>77084</td>\n",
       "      <td>zip</td>\n",
       "      <td>TX</td>\n",
       "      <td>TX</td>\n",
       "      <td>Houston</td>\n",
       "      <td>Houston-The Woodlands-Sugar Land, TX</td>\n",
       "      <td>Harris County</td>\n",
       "      <td>102153.208791</td>\n",
       "      <td>...</td>\n",
       "      <td>271678.791950</td>\n",
       "      <td>271724.750316</td>\n",
       "      <td>272249.216554</td>\n",
       "      <td>273247.830993</td>\n",
       "      <td>274236.938985</td>\n",
       "      <td>274737.845371</td>\n",
       "      <td>274571.491387</td>\n",
       "      <td>274279.811068</td>\n",
       "      <td>274007.776630</td>\n",
       "      <td>273755.457541</td>\n",
       "    </tr>\n",
       "  </tbody>\n",
       "</table>\n",
       "<p>5 rows × 306 columns</p>\n",
       "</div>"
      ],
      "text/plain": [
       "   RegionID  SizeRank  RegionName RegionType StateName State      City  \\\n",
       "0     91982         1       77494        zip        TX    TX      Katy   \n",
       "1     61148         2        8701        zip        NJ    NJ  Lakewood   \n",
       "2     91940         3       77449        zip        TX    TX      Katy   \n",
       "3     62080         4       11368        zip        NY    NY  New York   \n",
       "4     91733         5       77084        zip        TX    TX   Houston   \n",
       "\n",
       "                                   Metro        CountyName     2000-01-31  \\\n",
       "0   Houston-The Woodlands-Sugar Land, TX  Fort Bend County  210115.649133   \n",
       "1  New York-Newark-Jersey City, NY-NJ-PA      Ocean County  138190.224310   \n",
       "2   Houston-The Woodlands-Sugar Land, TX     Harris County  103030.935699   \n",
       "3  New York-Newark-Jersey City, NY-NJ-PA     Queens County  149541.567251   \n",
       "4   Houston-The Woodlands-Sugar Land, TX     Harris County  102153.208791   \n",
       "\n",
       "   ...     2023-12-31     2024-01-31     2024-02-29     2024-03-31  \\\n",
       "0  ...  487417.408782  488792.727435  490953.961843  493764.629294   \n",
       "1  ...  587035.721219  588629.641020  591203.603657  596333.583567   \n",
       "2  ...  276821.427264  277174.536177  277871.353968  278961.940193   \n",
       "3  ...  454925.742157  452068.717877  450448.651203  453539.551510   \n",
       "4  ...  271678.791950  271724.750316  272249.216554  273247.830993   \n",
       "\n",
       "      2024-04-30     2024-05-31     2024-06-30     2024-07-31     2024-08-31  \\\n",
       "0  496284.689998  497597.965629  497904.508357  497525.166064  497932.811213   \n",
       "1  604688.550311  612076.603761  617531.871790  622433.089855  627699.846638   \n",
       "2  279916.177474  280446.900967  280407.399117  280174.421115  279993.811959   \n",
       "3  458095.452458  462764.716450  463474.489325  462960.352042  462321.216661   \n",
       "4  274236.938985  274737.845371  274571.491387  274279.811068  274007.776630   \n",
       "\n",
       "      2024-09-30  \n",
       "0  498624.058988  \n",
       "1  633902.162029  \n",
       "2  279806.751424  \n",
       "3  463290.574508  \n",
       "4  273755.457541  \n",
       "\n",
       "[5 rows x 306 columns]"
      ]
     },
     "execution_count": 234,
     "metadata": {},
     "output_type": "execute_result"
    }
   ],
   "source": [
    "#Read dataset\n",
    "zhvi_dataset = pd.read_csv(\"../Zip(zhvf_and_zhvi)_combined/Zip_zhvi_uc_sfrcondo_tier_0.33_0.67_sm_sa_month.csv\")\n",
    "zhvi_dataset.head()"
   ]
  },
  {
   "cell_type": "code",
   "execution_count": 235,
   "metadata": {},
   "outputs": [
    {
     "data": {
      "text/plain": [
       "array(['zip'], dtype=object)"
      ]
     },
     "execution_count": 235,
     "metadata": {},
     "output_type": "execute_result"
    }
   ],
   "source": [
    "zhvi_dataset[\"RegionType\"].unique()"
   ]
  },
  {
   "cell_type": "code",
   "execution_count": null,
   "metadata": {},
   "outputs": [],
   "source": [
    "#seasonal trend analysis graph for how seasons effect areas"
   ]
  },
  {
   "cell_type": "code",
   "execution_count": 170,
   "metadata": {},
   "outputs": [
    {
     "name": "stdout",
     "output_type": "stream",
     "text": [
      "[394692]\n"
     ]
    },
    {
     "data": {
      "image/png": "[encoded data removed]",
      "text/plain": [
       "<Figure size 1200x600 with 2 Axes>"
      ]
     },
     "metadata": {},
     "output_type": "display_data"
    }
   ],
   "source": [
    "test_sample = zhvi_dataset.iloc[:, [0]+list(range(5, zhvi_dataset.shape[1]))]\n",
    "test_sample = test_sample[test_sample[\"RegionID\"]==394692]\n",
    "test_long = pd.melt(test_sample, id_vars=[\"RegionID\"], var_name=\"Month\", value_name=\"Price\")\n",
    "print(test_long[\"RegionID\"].unique())\n",
    "plt.figure(figsize=(12, 6))\n",
    "\n",
    "# ACF plot (AutoCorrelation Function)\n",
    "plt.subplot(121)  # 1 row, 2 columns, from statsmodels.tsa.stattools import adfuller\n",
    "plot_acf(test_long['Price'], lags=60, ax=plt.gca())  # Plot ACF for 30 lags\n",
    "\n",
    "# PACF plot (Partial AutoCorrelation Function)\n",
    "plt.subplot(122)  # 1 row, 2 columns, second plot\n",
    "plot_pacf(test_long['Price'], lags=36, ax=plt.gca())  # Plot PACF for 30 lags\n",
    "\n",
    "# Show the plots\n",
    "plt.tight_layout()  # Adjust layout to avoid overlap\n",
    "plt.show()"
   ]
  },
  {
   "cell_type": "code",
   "execution_count": 149,
   "metadata": {},
   "outputs": [
    {
     "name": "stdout",
     "output_type": "stream",
     "text": [
      "297    951778.166552\n",
      "298    952207.123129\n",
      "299    952441.848761\n",
      "300    952638.425146\n",
      "301    952827.506416\n",
      "302    953015.112979\n",
      "303    953202.427233\n",
      "304    953389.681397\n",
      "305    953576.921079\n",
      "306    953764.155236\n",
      "307    953951.385629\n",
      "308    954138.612601\n",
      "Name: predicted_mean, dtype: float64\n"
     ]
    }
   ],
   "source": [
    "test_long = zhvi_dataset.head().head()long.sort_values(by=\"Month\")\n",
    "model = ARIMA(test_long[\"Price\"],order=(2,1,1))\n",
    "model_trained = model.fit()\n",
    "forecast = model_trained.forecast(steps=12)\n",
    "print(forecast)\n",
    "#950360"
   ]
  },
  {
   "cell_type": "code",
   "execution_count": 181,
   "metadata": {},
   "outputs": [
    {
     "name": "stdout",
     "output_type": "stream",
     "text": [
      "-0.007813364760422704\n"
     ]
    }
   ],
   "source": [
    "print((307142-307166)*100/307166)"
   ]
  },
  {
   "cell_type": "code",
   "execution_count": 184,
   "metadata": {},
   "outputs": [
    {
     "data": {
      "text/plain": [
       "[<matplotlib.lines.Line2D at 0x753b1d0cc9e0>]"
      ]
     },
     "execution_count": 184,
     "metadata": {},
     "output_type": "execute_result"
    },
    {
     "data": {
      "image/png": "[encoded data removed]",
      "text/plain": [
       "<Figure size 1000x800 with 1 Axes>"
      ]
     },
     "metadata": {},
     "output_type": "display_data"
    }
   ],
   "source": [
    "plt.figure(figsize=(10, 8))\n",
    "plt.plot(test_long.iloc[:12,1],test_long.iloc[:12,2])\n",
    "#plt.xticks(test_long['Month'][::12], rotation=45) "
   ]
  },
  {
   "cell_type": "code",
   "execution_count": 120,
   "metadata": {},
   "outputs": [],
   "source": [
    "p_values = range(48,61)\n",
    "q_values = range(0,3)\n",
    "d_values = range(0,2)"
   ]
  },
  {
   "cell_type": "code",
   "execution_count": null,
   "metadata": {},
   "outputs": [],
   "source": [
    "#1 year\n",
    "#5 years\n",
    "#10 years\n",
    "#All time"
   ]
  },
  {
   "cell_type": "code",
   "execution_count": 240,
   "metadata": {},
   "outputs": [
    {
     "data": {
      "text/html": [
       "<div>\n",
       "<style scoped>\n",
       "    .dataframe tbody tr th:only-of-type {\n",
       "        vertical-align: middle;\n",
       "    }\n",
       "\n",
       "    .dataframe tbody tr th {\n",
       "        vertical-align: top;\n",
       "    }\n",
       "\n",
       "    .dataframe thead th {\n",
       "        text-align: right;\n",
       "    }\n",
       "</style>\n",
       "<table border=\"1\" class=\"dataframe\">\n",
       "  <thead>\n",
       "    <tr style=\"text-align: right;\">\n",
       "      <th></th>\n",
       "      <th>RegionName</th>\n",
       "      <th>2024-10-31</th>\n",
       "      <th>2024-12-31</th>\n",
       "      <th>2025-09-30</th>\n",
       "    </tr>\n",
       "  </thead>\n",
       "  <tbody>\n",
       "    <tr>\n",
       "      <th>0</th>\n",
       "      <td>77494</td>\n",
       "      <td>0.1</td>\n",
       "      <td>-0.5</td>\n",
       "      <td>-1.1</td>\n",
       "    </tr>\n",
       "    <tr>\n",
       "      <th>1</th>\n",
       "      <td>8701</td>\n",
       "      <td>0.5</td>\n",
       "      <td>0.1</td>\n",
       "      <td>-0.4</td>\n",
       "    </tr>\n",
       "    <tr>\n",
       "      <th>2</th>\n",
       "      <td>77449</td>\n",
       "      <td>-0.2</td>\n",
       "      <td>-1.1</td>\n",
       "      <td>-1.2</td>\n",
       "    </tr>\n",
       "    <tr>\n",
       "      <th>3</th>\n",
       "      <td>11368</td>\n",
       "      <td>-0.2</td>\n",
       "      <td>-0.9</td>\n",
       "      <td>-0.5</td>\n",
       "    </tr>\n",
       "    <tr>\n",
       "      <th>4</th>\n",
       "      <td>77084</td>\n",
       "      <td>-0.2</td>\n",
       "      <td>-0.9</td>\n",
       "      <td>-1.2</td>\n",
       "    </tr>\n",
       "    <tr>\n",
       "      <th>...</th>\n",
       "      <td>...</td>\n",
       "      <td>...</td>\n",
       "      <td>...</td>\n",
       "      <td>...</td>\n",
       "    </tr>\n",
       "    <tr>\n",
       "      <th>20157</th>\n",
       "      <td>31648</td>\n",
       "      <td>-1.2</td>\n",
       "      <td>-1.1</td>\n",
       "      <td>-0.1</td>\n",
       "    </tr>\n",
       "    <tr>\n",
       "      <th>20158</th>\n",
       "      <td>33855</td>\n",
       "      <td>-0.1</td>\n",
       "      <td>-0.7</td>\n",
       "      <td>0.5</td>\n",
       "    </tr>\n",
       "    <tr>\n",
       "      <th>20159</th>\n",
       "      <td>34138</td>\n",
       "      <td>-0.9</td>\n",
       "      <td>-2.3</td>\n",
       "      <td>0.2</td>\n",
       "    </tr>\n",
       "    <tr>\n",
       "      <th>20160</th>\n",
       "      <td>48853</td>\n",
       "      <td>0.3</td>\n",
       "      <td>0.5</td>\n",
       "      <td>0.2</td>\n",
       "    </tr>\n",
       "    <tr>\n",
       "      <th>20161</th>\n",
       "      <td>62093</td>\n",
       "      <td>-0.1</td>\n",
       "      <td>-0.2</td>\n",
       "      <td>-2.8</td>\n",
       "    </tr>\n",
       "  </tbody>\n",
       "</table>\n",
       "<p>20162 rows × 4 columns</p>\n",
       "</div>"
      ],
      "text/plain": [
       "       RegionName  2024-10-31  2024-12-31  2025-09-30\n",
       "0           77494         0.1        -0.5        -1.1\n",
       "1            8701         0.5         0.1        -0.4\n",
       "2           77449        -0.2        -1.1        -1.2\n",
       "3           11368        -0.2        -0.9        -0.5\n",
       "4           77084        -0.2        -0.9        -1.2\n",
       "...           ...         ...         ...         ...\n",
       "20157       31648        -1.2        -1.1        -0.1\n",
       "20158       33855        -0.1        -0.7         0.5\n",
       "20159       34138        -0.9        -2.3         0.2\n",
       "20160       48853         0.3         0.5         0.2\n",
       "20161       62093        -0.1        -0.2        -2.8\n",
       "\n",
       "[20162 rows x 4 columns]"
      ]
     },
     "execution_count": 240,
     "metadata": {},
     "output_type": "execute_result"
    }
   ],
   "source": [
    "#zvhf dataset\n",
    "zhvf_dataset = pd.read_csv(\"../Zip(zhvf_and_zhvi)_combined/Zip_zhvf_growth_uc_sfrcondo_tier_0.33_0.67_sm_sa_month.csv\")\n",
    "zhvf_dataset = zhvf_dataset.iloc[:,[2,10,11,12]]\n",
    "zhvf_dataset"
   ]
  },
  {
   "cell_type": "code",
   "execution_count": 325,
   "metadata": {},
   "outputs": [
    {
     "data": {
      "text/plain": [
       "(26337, 306)"
      ]
     },
     "execution_count": 325,
     "metadata": {},
     "output_type": "execute_result"
    }
   ],
   "source": [
    "columns = [\"RegionName\", \"one_month_sign_acc\", \"quarter_sign_acc\",\"year_sign_acc\",\"one_month_rms\",\"quarter_rms\",\"year_rms\",\"time_used\"]\n",
    "predicted_df = pd.DataFrame(columns=columns)\n",
    "#predicted_df\n"
   ]
  },
  {
   "cell_type": "code",
   "execution_count": 330,
   "metadata": {},
   "outputs": [
    {
     "name": "stderr",
     "output_type": "stream",
     "text": [
      "/tmp/ipykernel_207134/433450913.py:6: UserWarning: Boolean Series key will be reindexed to match DataFrame index.\n",
      "  region_data =  zhvi_dataset_clean[zhvi_dataset[\"RegionName\"]==region]#[[0]+list(range(5, zhvi_dataset.shape[1]))]\n",
      "/tmp/ipykernel_207134/433450913.py:16: FutureWarning: Calling int on a single element Series is deprecated and will raise a TypeError in the future. Use int(ser.iloc[0]) instead\n",
      "  last_known_price = int(region_data[\"Price\"].tail(1))\n",
      "/tmp/ipykernel_207134/433450913.py:6: UserWarning: Boolean Series key will be reindexed to match DataFrame index.\n",
      "  region_data =  zhvi_dataset_clean[zhvi_dataset[\"RegionName\"]==region]#[[0]+list(range(5, zhvi_dataset.shape[1]))]\n",
      "/tmp/ipykernel_207134/433450913.py:16: FutureWarning: Calling int on a single element Series is deprecated and will raise a TypeError in the future. Use int(ser.iloc[0]) instead\n",
      "  last_known_price = int(region_data[\"Price\"].tail(1))\n",
      "/tmp/ipykernel_207134/433450913.py:6: UserWarning: Boolean Series key will be reindexed to match DataFrame index.\n",
      "  region_data =  zhvi_dataset_clean[zhvi_dataset[\"RegionName\"]==region]#[[0]+list(range(5, zhvi_dataset.shape[1]))]\n",
      "/tmp/ipykernel_207134/433450913.py:16: FutureWarning: Calling int on a single element Series is deprecated and will raise a TypeError in the future. Use int(ser.iloc[0]) instead\n",
      "  last_known_price = int(region_data[\"Price\"].tail(1))\n",
      "/tmp/ipykernel_207134/433450913.py:6: UserWarning: Boolean Series key will be reindexed to match DataFrame index.\n",
      "  region_data =  zhvi_dataset_clean[zhvi_dataset[\"RegionName\"]==region]#[[0]+list(range(5, zhvi_dataset.shape[1]))]\n",
      "/tmp/ipykernel_207134/433450913.py:16: FutureWarning: Calling int on a single element Series is deprecated and will raise a TypeError in the future. Use int(ser.iloc[0]) instead\n",
      "  last_known_price = int(region_data[\"Price\"].tail(1))\n",
      "/tmp/ipykernel_207134/433450913.py:6: UserWarning: Boolean Series key will be reindexed to match DataFrame index.\n",
      "  region_data =  zhvi_dataset_clean[zhvi_dataset[\"RegionName\"]==region]#[[0]+list(range(5, zhvi_dataset.shape[1]))]\n",
      "/tmp/ipykernel_207134/433450913.py:16: FutureWarning: Calling int on a single element Series is deprecated and will raise a TypeError in the future. Use int(ser.iloc[0]) instead\n",
      "  last_known_price = int(region_data[\"Price\"].tail(1))\n",
      "/tmp/ipykernel_207134/433450913.py:6: UserWarning: Boolean Series key will be reindexed to match DataFrame index.\n",
      "  region_data =  zhvi_dataset_clean[zhvi_dataset[\"RegionName\"]==region]#[[0]+list(range(5, zhvi_dataset.shape[1]))]\n",
      "/tmp/ipykernel_207134/433450913.py:16: FutureWarning: Calling int on a single element Series is deprecated and will raise a TypeError in the future. Use int(ser.iloc[0]) instead\n",
      "  last_known_price = int(region_data[\"Price\"].tail(1))\n",
      "/tmp/ipykernel_207134/433450913.py:6: UserWarning: Boolean Series key will be reindexed to match DataFrame index.\n",
      "  region_data =  zhvi_dataset_clean[zhvi_dataset[\"RegionName\"]==region]#[[0]+list(range(5, zhvi_dataset.shape[1]))]\n",
      "/home/armaan10/Desktop/UIC_MS/coursework/CS_418/Homework/CS_418_env/lib/python3.12/site-packages/statsmodels/tsa/statespace/sarimax.py:978: UserWarning: Non-invertible starting MA parameters found. Using zeros as starting parameters.\n",
      "  warn('Non-invertible starting MA parameters found.'\n",
      "/home/armaan10/Desktop/UIC_MS/coursework/CS_418/Homework/CS_418_env/lib/python3.12/site-packages/statsmodels/base/model.py:607: ConvergenceWarning: Maximum Likelihood optimization failed to converge. Check mle_retvals\n",
      "  warnings.warn(\"Maximum Likelihood optimization failed to \"\n",
      "/tmp/ipykernel_207134/433450913.py:16: FutureWarning: Calling int on a single element Series is deprecated and will raise a TypeError in the future. Use int(ser.iloc[0]) instead\n",
      "  last_known_price = int(region_data[\"Price\"].tail(1))\n",
      "/tmp/ipykernel_207134/433450913.py:6: UserWarning: Boolean Series key will be reindexed to match DataFrame index.\n",
      "  region_data =  zhvi_dataset_clean[zhvi_dataset[\"RegionName\"]==region]#[[0]+list(range(5, zhvi_dataset.shape[1]))]\n",
      "/tmp/ipykernel_207134/433450913.py:16: FutureWarning: Calling int on a single element Series is deprecated and will raise a TypeError in the future. Use int(ser.iloc[0]) instead\n",
      "  last_known_price = int(region_data[\"Price\"].tail(1))\n",
      "/tmp/ipykernel_207134/433450913.py:6: UserWarning: Boolean Series key will be reindexed to match DataFrame index.\n",
      "  region_data =  zhvi_dataset_clean[zhvi_dataset[\"RegionName\"]==region]#[[0]+list(range(5, zhvi_dataset.shape[1]))]\n",
      "/tmp/ipykernel_207134/433450913.py:16: FutureWarning: Calling int on a single element Series is deprecated and will raise a TypeError in the future. Use int(ser.iloc[0]) instead\n",
      "  last_known_price = int(region_data[\"Price\"].tail(1))\n",
      "/tmp/ipykernel_207134/433450913.py:6: UserWarning: Boolean Series key will be reindexed to match DataFrame index.\n",
      "  region_data =  zhvi_dataset_clean[zhvi_dataset[\"RegionName\"]==region]#[[0]+list(range(5, zhvi_dataset.shape[1]))]\n",
      "/home/armaan10/Desktop/UIC_MS/coursework/CS_418/Homework/CS_418_env/lib/python3.12/site-packages/statsmodels/base/model.py:607: ConvergenceWarning: Maximum Likelihood optimization failed to converge. Check mle_retvals\n",
      "  warnings.warn(\"Maximum Likelihood optimization failed to \"\n",
      "/tmp/ipykernel_207134/433450913.py:16: FutureWarning: Calling int on a single element Series is deprecated and will raise a TypeError in the future. Use int(ser.iloc[0]) instead\n",
      "  last_known_price = int(region_data[\"Price\"].tail(1))\n",
      "/tmp/ipykernel_207134/433450913.py:6: UserWarning: Boolean Series key will be reindexed to match DataFrame index.\n",
      "  region_data =  zhvi_dataset_clean[zhvi_dataset[\"RegionName\"]==region]#[[0]+list(range(5, zhvi_dataset.shape[1]))]\n",
      "/tmp/ipykernel_207134/433450913.py:16: FutureWarning: Calling int on a single element Series is deprecated and will raise a TypeError in the future. Use int(ser.iloc[0]) instead\n",
      "  last_known_price = int(region_data[\"Price\"].tail(1))\n",
      "/tmp/ipykernel_207134/433450913.py:6: UserWarning: Boolean Series key will be reindexed to match DataFrame index.\n",
      "  region_data =  zhvi_dataset_clean[zhvi_dataset[\"RegionName\"]==region]#[[0]+list(range(5, zhvi_dataset.shape[1]))]\n",
      "/tmp/ipykernel_207134/433450913.py:16: FutureWarning: Calling int on a single element Series is deprecated and will raise a TypeError in the future. Use int(ser.iloc[0]) instead\n",
      "  last_known_price = int(region_data[\"Price\"].tail(1))\n",
      "/tmp/ipykernel_207134/433450913.py:6: UserWarning: Boolean Series key will be reindexed to match DataFrame index.\n",
      "  region_data =  zhvi_dataset_clean[zhvi_dataset[\"RegionName\"]==region]#[[0]+list(range(5, zhvi_dataset.shape[1]))]\n",
      "/tmp/ipykernel_207134/433450913.py:16: FutureWarning: Calling int on a single element Series is deprecated and will raise a TypeError in the future. Use int(ser.iloc[0]) instead\n",
      "  last_known_price = int(region_data[\"Price\"].tail(1))\n",
      "/tmp/ipykernel_207134/433450913.py:6: UserWarning: Boolean Series key will be reindexed to match DataFrame index.\n",
      "  region_data =  zhvi_dataset_clean[zhvi_dataset[\"RegionName\"]==region]#[[0]+list(range(5, zhvi_dataset.shape[1]))]\n",
      "/tmp/ipykernel_207134/433450913.py:16: FutureWarning: Calling int on a single element Series is deprecated and will raise a TypeError in the future. Use int(ser.iloc[0]) instead\n",
      "  last_known_price = int(region_data[\"Price\"].tail(1))\n",
      "/tmp/ipykernel_207134/433450913.py:6: UserWarning: Boolean Series key will be reindexed to match DataFrame index.\n",
      "  region_data =  zhvi_dataset_clean[zhvi_dataset[\"RegionName\"]==region]#[[0]+list(range(5, zhvi_dataset.shape[1]))]\n",
      "/tmp/ipykernel_207134/433450913.py:16: FutureWarning: Calling int on a single element Series is deprecated and will raise a TypeError in the future. Use int(ser.iloc[0]) instead\n",
      "  last_known_price = int(region_data[\"Price\"].tail(1))\n",
      "/tmp/ipykernel_207134/433450913.py:6: UserWarning: Boolean Series key will be reindexed to match DataFrame index.\n",
      "  region_data =  zhvi_dataset_clean[zhvi_dataset[\"RegionName\"]==region]#[[0]+list(range(5, zhvi_dataset.shape[1]))]\n",
      "/tmp/ipykernel_207134/433450913.py:16: FutureWarning: Calling int on a single element Series is deprecated and will raise a TypeError in the future. Use int(ser.iloc[0]) instead\n",
      "  last_known_price = int(region_data[\"Price\"].tail(1))\n",
      "/tmp/ipykernel_207134/433450913.py:6: UserWarning: Boolean Series key will be reindexed to match DataFrame index.\n",
      "  region_data =  zhvi_dataset_clean[zhvi_dataset[\"RegionName\"]==region]#[[0]+list(range(5, zhvi_dataset.shape[1]))]\n",
      "/tmp/ipykernel_207134/433450913.py:16: FutureWarning: Calling int on a single element Series is deprecated and will raise a TypeError in the future. Use int(ser.iloc[0]) instead\n",
      "  last_known_price = int(region_data[\"Price\"].tail(1))\n",
      "/tmp/ipykernel_207134/433450913.py:6: UserWarning: Boolean Series key will be reindexed to match DataFrame index.\n",
      "  region_data =  zhvi_dataset_clean[zhvi_dataset[\"RegionName\"]==region]#[[0]+list(range(5, zhvi_dataset.shape[1]))]\n",
      "/tmp/ipykernel_207134/433450913.py:16: FutureWarning: Calling int on a single element Series is deprecated and will raise a TypeError in the future. Use int(ser.iloc[0]) instead\n",
      "  last_known_price = int(region_data[\"Price\"].tail(1))\n",
      "/tmp/ipykernel_207134/433450913.py:6: UserWarning: Boolean Series key will be reindexed to match DataFrame index.\n",
      "  region_data =  zhvi_dataset_clean[zhvi_dataset[\"RegionName\"]==region]#[[0]+list(range(5, zhvi_dataset.shape[1]))]\n",
      "/home/armaan10/Desktop/UIC_MS/coursework/CS_418/Homework/CS_418_env/lib/python3.12/site-packages/statsmodels/base/model.py:607: ConvergenceWarning: Maximum Likelihood optimization failed to converge. Check mle_retvals\n",
      "  warnings.warn(\"Maximum Likelihood optimization failed to \"\n",
      "/tmp/ipykernel_207134/433450913.py:16: FutureWarning: Calling int on a single element Series is deprecated and will raise a TypeError in the future. Use int(ser.iloc[0]) instead\n",
      "  last_known_price = int(region_data[\"Price\"].tail(1))\n",
      "/tmp/ipykernel_207134/433450913.py:6: UserWarning: Boolean Series key will be reindexed to match DataFrame index.\n",
      "  region_data =  zhvi_dataset_clean[zhvi_dataset[\"RegionName\"]==region]#[[0]+list(range(5, zhvi_dataset.shape[1]))]\n",
      "/tmp/ipykernel_207134/433450913.py:16: FutureWarning: Calling int on a single element Series is deprecated and will raise a TypeError in the future. Use int(ser.iloc[0]) instead\n",
      "  last_known_price = int(region_data[\"Price\"].tail(1))\n",
      "/tmp/ipykernel_207134/433450913.py:6: UserWarning: Boolean Series key will be reindexed to match DataFrame index.\n",
      "  region_data =  zhvi_dataset_clean[zhvi_dataset[\"RegionName\"]==region]#[[0]+list(range(5, zhvi_dataset.shape[1]))]\n",
      "/tmp/ipykernel_207134/433450913.py:16: FutureWarning: Calling int on a single element Series is deprecated and will raise a TypeError in the future. Use int(ser.iloc[0]) instead\n",
      "  last_known_price = int(region_data[\"Price\"].tail(1))\n",
      "/tmp/ipykernel_207134/433450913.py:6: UserWarning: Boolean Series key will be reindexed to match DataFrame index.\n",
      "  region_data =  zhvi_dataset_clean[zhvi_dataset[\"RegionName\"]==region]#[[0]+list(range(5, zhvi_dataset.shape[1]))]\n"
     ]
    },
    {
     "ename": "KeyboardInterrupt",
     "evalue": "",
     "output_type": "error",
     "traceback": [
      "\u001b[0;31m---------------------------------------------------------------------------\u001b[0m",
      "\u001b[0;31mKeyboardInterrupt\u001b[0m                         Traceback (most recent call last)",
      "Cell \u001b[0;32mIn[330], line 7\u001b[0m\n\u001b[1;32m      5\u001b[0m \u001b[38;5;28;01mfor\u001b[39;00m region \u001b[38;5;129;01min\u001b[39;00m zhvi_dataset_clean[\u001b[38;5;124m\"\u001b[39m\u001b[38;5;124mRegionName\u001b[39m\u001b[38;5;124m\"\u001b[39m]\u001b[38;5;241m.\u001b[39munique():\n\u001b[1;32m      6\u001b[0m     region_data \u001b[38;5;241m=\u001b[39m  zhvi_dataset_clean[zhvi_dataset[\u001b[38;5;124m\"\u001b[39m\u001b[38;5;124mRegionName\u001b[39m\u001b[38;5;124m\"\u001b[39m]\u001b[38;5;241m==\u001b[39mregion]\u001b[38;5;66;03m#[[0]+list(range(5, zhvi_dataset.shape[1]))]\u001b[39;00m\n\u001b[0;32m----> 7\u001b[0m     region_data \u001b[38;5;241m=\u001b[39m \u001b[43mpd\u001b[49m\u001b[38;5;241;43m.\u001b[39;49m\u001b[43mmelt\u001b[49m\u001b[43m(\u001b[49m\u001b[43mregion_data\u001b[49m\u001b[43m,\u001b[49m\u001b[43m \u001b[49m\u001b[43mid_vars\u001b[49m\u001b[38;5;241;43m=\u001b[39;49m\u001b[43m[\u001b[49m\u001b[38;5;124;43m\"\u001b[39;49m\u001b[38;5;124;43mRegionName\u001b[39;49m\u001b[38;5;124;43m\"\u001b[39;49m\u001b[43m]\u001b[49m\u001b[43m,\u001b[49m\u001b[43m \u001b[49m\u001b[43mvar_name\u001b[49m\u001b[38;5;241;43m=\u001b[39;49m\u001b[38;5;124;43m\"\u001b[39;49m\u001b[38;5;124;43mMonth\u001b[39;49m\u001b[38;5;124;43m\"\u001b[39;49m\u001b[43m,\u001b[49m\u001b[43m \u001b[49m\u001b[43mvalue_name\u001b[49m\u001b[38;5;241;43m=\u001b[39;49m\u001b[38;5;124;43m\"\u001b[39;49m\u001b[38;5;124;43mPrice\u001b[39;49m\u001b[38;5;124;43m\"\u001b[39;49m\u001b[43m)\u001b[49m\n\u001b[1;32m      8\u001b[0m     region_data \u001b[38;5;241m=\u001b[39m region_data\u001b[38;5;241m.\u001b[39msort_values(by \u001b[38;5;241m=\u001b[39m \u001b[38;5;124m\"\u001b[39m\u001b[38;5;124mMonth\u001b[39m\u001b[38;5;124m\"\u001b[39m)\n\u001b[1;32m      9\u001b[0m     \u001b[38;5;66;03m#region_data = region_data.iloc[-13:,:] \u001b[39;00m\n\u001b[1;32m     10\u001b[0m     \u001b[38;5;66;03m#print(region_data)\u001b[39;00m\n",
      "File \u001b[0;32m~/Desktop/UIC_MS/coursework/CS_418/Homework/CS_418_env/lib/python3.12/site-packages/pandas/core/reshape/melt.py:126\u001b[0m, in \u001b[0;36mmelt\u001b[0;34m(frame, id_vars, value_vars, var_name, value_name, col_level, ignore_index)\u001b[0m\n\u001b[1;32m    120\u001b[0m mcolumns \u001b[38;5;241m=\u001b[39m id_vars \u001b[38;5;241m+\u001b[39m var_name \u001b[38;5;241m+\u001b[39m [value_name]\n\u001b[1;32m    122\u001b[0m \u001b[38;5;28;01mif\u001b[39;00m frame\u001b[38;5;241m.\u001b[39mshape[\u001b[38;5;241m1\u001b[39m] \u001b[38;5;241m>\u001b[39m \u001b[38;5;241m0\u001b[39m \u001b[38;5;129;01mand\u001b[39;00m \u001b[38;5;129;01mnot\u001b[39;00m \u001b[38;5;28many\u001b[39m(\n\u001b[1;32m    123\u001b[0m     \u001b[38;5;129;01mnot\u001b[39;00m \u001b[38;5;28misinstance\u001b[39m(dt, np\u001b[38;5;241m.\u001b[39mdtype) \u001b[38;5;129;01mand\u001b[39;00m dt\u001b[38;5;241m.\u001b[39m_supports_2d \u001b[38;5;28;01mfor\u001b[39;00m dt \u001b[38;5;129;01min\u001b[39;00m frame\u001b[38;5;241m.\u001b[39mdtypes\n\u001b[1;32m    124\u001b[0m ):\n\u001b[1;32m    125\u001b[0m     mdata[value_name] \u001b[38;5;241m=\u001b[39m concat(\n\u001b[0;32m--> 126\u001b[0m         [\u001b[43mframe\u001b[49m\u001b[38;5;241;43m.\u001b[39;49m\u001b[43miloc\u001b[49m\u001b[43m[\u001b[49m\u001b[43m:\u001b[49m\u001b[43m,\u001b[49m\u001b[43m \u001b[49m\u001b[43mi\u001b[49m\u001b[43m]\u001b[49m \u001b[38;5;28;01mfor\u001b[39;00m i \u001b[38;5;129;01min\u001b[39;00m \u001b[38;5;28mrange\u001b[39m(frame\u001b[38;5;241m.\u001b[39mshape[\u001b[38;5;241m1\u001b[39m])]\n\u001b[1;32m    127\u001b[0m     )\u001b[38;5;241m.\u001b[39mvalues\n\u001b[1;32m    128\u001b[0m \u001b[38;5;28;01melse\u001b[39;00m:\n\u001b[1;32m    129\u001b[0m     mdata[value_name] \u001b[38;5;241m=\u001b[39m frame\u001b[38;5;241m.\u001b[39m_values\u001b[38;5;241m.\u001b[39mravel(\u001b[38;5;124m\"\u001b[39m\u001b[38;5;124mF\u001b[39m\u001b[38;5;124m\"\u001b[39m)\n",
      "File \u001b[0;32m~/Desktop/UIC_MS/coursework/CS_418/Homework/CS_418_env/lib/python3.12/site-packages/pandas/core/indexing.py:1184\u001b[0m, in \u001b[0;36m_LocationIndexer.__getitem__\u001b[0;34m(self, key)\u001b[0m\n\u001b[1;32m   1182\u001b[0m     \u001b[38;5;28;01mif\u001b[39;00m \u001b[38;5;28mself\u001b[39m\u001b[38;5;241m.\u001b[39m_is_scalar_access(key):\n\u001b[1;32m   1183\u001b[0m         \u001b[38;5;28;01mreturn\u001b[39;00m \u001b[38;5;28mself\u001b[39m\u001b[38;5;241m.\u001b[39mobj\u001b[38;5;241m.\u001b[39m_get_value(\u001b[38;5;241m*\u001b[39mkey, takeable\u001b[38;5;241m=\u001b[39m\u001b[38;5;28mself\u001b[39m\u001b[38;5;241m.\u001b[39m_takeable)\n\u001b[0;32m-> 1184\u001b[0m     \u001b[38;5;28;01mreturn\u001b[39;00m \u001b[38;5;28;43mself\u001b[39;49m\u001b[38;5;241;43m.\u001b[39;49m\u001b[43m_getitem_tuple\u001b[49m\u001b[43m(\u001b[49m\u001b[43mkey\u001b[49m\u001b[43m)\u001b[49m\n\u001b[1;32m   1185\u001b[0m \u001b[38;5;28;01melse\u001b[39;00m:\n\u001b[1;32m   1186\u001b[0m     \u001b[38;5;66;03m# we by definition only have the 0th axis\u001b[39;00m\n\u001b[1;32m   1187\u001b[0m     axis \u001b[38;5;241m=\u001b[39m \u001b[38;5;28mself\u001b[39m\u001b[38;5;241m.\u001b[39maxis \u001b[38;5;129;01mor\u001b[39;00m \u001b[38;5;241m0\u001b[39m\n",
      "File \u001b[0;32m~/Desktop/UIC_MS/coursework/CS_418/Homework/CS_418_env/lib/python3.12/site-packages/pandas/core/indexing.py:1692\u001b[0m, in \u001b[0;36m_iLocIndexer._getitem_tuple\u001b[0;34m(self, tup)\u001b[0m\n\u001b[1;32m   1690\u001b[0m tup \u001b[38;5;241m=\u001b[39m \u001b[38;5;28mself\u001b[39m\u001b[38;5;241m.\u001b[39m_validate_tuple_indexer(tup)\n\u001b[1;32m   1691\u001b[0m \u001b[38;5;28;01mwith\u001b[39;00m suppress(IndexingError):\n\u001b[0;32m-> 1692\u001b[0m     \u001b[38;5;28;01mreturn\u001b[39;00m \u001b[38;5;28;43mself\u001b[39;49m\u001b[38;5;241;43m.\u001b[39;49m\u001b[43m_getitem_lowerdim\u001b[49m\u001b[43m(\u001b[49m\u001b[43mtup\u001b[49m\u001b[43m)\u001b[49m\n\u001b[1;32m   1694\u001b[0m \u001b[38;5;28;01mreturn\u001b[39;00m \u001b[38;5;28mself\u001b[39m\u001b[38;5;241m.\u001b[39m_getitem_tuple_same_dim(tup)\n",
      "File \u001b[0;32m~/Desktop/UIC_MS/coursework/CS_418/Homework/CS_418_env/lib/python3.12/site-packages/pandas/core/indexing.py:1065\u001b[0m, in \u001b[0;36m_LocationIndexer._getitem_lowerdim\u001b[0;34m(self, tup)\u001b[0m\n\u001b[1;32m   1061\u001b[0m \u001b[38;5;28;01mfor\u001b[39;00m i, key \u001b[38;5;129;01min\u001b[39;00m \u001b[38;5;28menumerate\u001b[39m(tup):\n\u001b[1;32m   1062\u001b[0m     \u001b[38;5;28;01mif\u001b[39;00m is_label_like(key):\n\u001b[1;32m   1063\u001b[0m         \u001b[38;5;66;03m# We don't need to check for tuples here because those are\u001b[39;00m\n\u001b[1;32m   1064\u001b[0m         \u001b[38;5;66;03m#  caught by the _is_nested_tuple_indexer check above.\u001b[39;00m\n\u001b[0;32m-> 1065\u001b[0m         section \u001b[38;5;241m=\u001b[39m \u001b[38;5;28;43mself\u001b[39;49m\u001b[38;5;241;43m.\u001b[39;49m\u001b[43m_getitem_axis\u001b[49m\u001b[43m(\u001b[49m\u001b[43mkey\u001b[49m\u001b[43m,\u001b[49m\u001b[43m \u001b[49m\u001b[43maxis\u001b[49m\u001b[38;5;241;43m=\u001b[39;49m\u001b[43mi\u001b[49m\u001b[43m)\u001b[49m\n\u001b[1;32m   1067\u001b[0m         \u001b[38;5;66;03m# We should never have a scalar section here, because\u001b[39;00m\n\u001b[1;32m   1068\u001b[0m         \u001b[38;5;66;03m#  _getitem_lowerdim is only called after a check for\u001b[39;00m\n\u001b[1;32m   1069\u001b[0m         \u001b[38;5;66;03m#  is_scalar_access, which that would be.\u001b[39;00m\n\u001b[1;32m   1070\u001b[0m         \u001b[38;5;28;01mif\u001b[39;00m section\u001b[38;5;241m.\u001b[39mndim \u001b[38;5;241m==\u001b[39m \u001b[38;5;28mself\u001b[39m\u001b[38;5;241m.\u001b[39mndim:\n\u001b[1;32m   1071\u001b[0m             \u001b[38;5;66;03m# we're in the middle of slicing through a MultiIndex\u001b[39;00m\n\u001b[1;32m   1072\u001b[0m             \u001b[38;5;66;03m# revise the key wrt to `section` by inserting an _NS\u001b[39;00m\n",
      "File \u001b[0;32m~/Desktop/UIC_MS/coursework/CS_418/Homework/CS_418_env/lib/python3.12/site-packages/pandas/core/indexing.py:1752\u001b[0m, in \u001b[0;36m_iLocIndexer._getitem_axis\u001b[0;34m(self, key, axis)\u001b[0m\n\u001b[1;32m   1749\u001b[0m     \u001b[38;5;28;01mraise\u001b[39;00m \u001b[38;5;167;01mTypeError\u001b[39;00m(\u001b[38;5;124m\"\u001b[39m\u001b[38;5;124mCannot index by location index with a non-integer key\u001b[39m\u001b[38;5;124m\"\u001b[39m)\n\u001b[1;32m   1751\u001b[0m \u001b[38;5;66;03m# validate the location\u001b[39;00m\n\u001b[0;32m-> 1752\u001b[0m \u001b[38;5;28;43mself\u001b[39;49m\u001b[38;5;241;43m.\u001b[39;49m\u001b[43m_validate_integer\u001b[49m\u001b[43m(\u001b[49m\u001b[43mkey\u001b[49m\u001b[43m,\u001b[49m\u001b[43m \u001b[49m\u001b[43maxis\u001b[49m\u001b[43m)\u001b[49m\n\u001b[1;32m   1754\u001b[0m \u001b[38;5;28;01mreturn\u001b[39;00m \u001b[38;5;28mself\u001b[39m\u001b[38;5;241m.\u001b[39mobj\u001b[38;5;241m.\u001b[39m_ixs(key, axis\u001b[38;5;241m=\u001b[39maxis)\n",
      "File \u001b[0;32m~/Desktop/UIC_MS/coursework/CS_418/Homework/CS_418_env/lib/python3.12/site-packages/pandas/core/indexing.py:1683\u001b[0m, in \u001b[0;36m_iLocIndexer._validate_integer\u001b[0;34m(self, key, axis)\u001b[0m\n\u001b[1;32m   1667\u001b[0m \u001b[38;5;28;01mdef\u001b[39;00m \u001b[38;5;21m_validate_integer\u001b[39m(\u001b[38;5;28mself\u001b[39m, key: \u001b[38;5;28mint\u001b[39m \u001b[38;5;241m|\u001b[39m np\u001b[38;5;241m.\u001b[39minteger, axis: AxisInt) \u001b[38;5;241m-\u001b[39m\u001b[38;5;241m>\u001b[39m \u001b[38;5;28;01mNone\u001b[39;00m:\n\u001b[1;32m   1668\u001b[0m \u001b[38;5;250m    \u001b[39m\u001b[38;5;124;03m\"\"\"\u001b[39;00m\n\u001b[1;32m   1669\u001b[0m \u001b[38;5;124;03m    Check that 'key' is a valid position in the desired axis.\u001b[39;00m\n\u001b[1;32m   1670\u001b[0m \n\u001b[0;32m   (...)\u001b[0m\n\u001b[1;32m   1681\u001b[0m \u001b[38;5;124;03m        If 'key' is not a valid position in axis 'axis'.\u001b[39;00m\n\u001b[1;32m   1682\u001b[0m \u001b[38;5;124;03m    \"\"\"\u001b[39;00m\n\u001b[0;32m-> 1683\u001b[0m     len_axis \u001b[38;5;241m=\u001b[39m \u001b[38;5;28;43mlen\u001b[39;49m\u001b[43m(\u001b[49m\u001b[38;5;28;43mself\u001b[39;49m\u001b[38;5;241;43m.\u001b[39;49m\u001b[43mobj\u001b[49m\u001b[38;5;241;43m.\u001b[39;49m\u001b[43m_get_axis\u001b[49m\u001b[43m(\u001b[49m\u001b[43maxis\u001b[49m\u001b[43m)\u001b[49m\u001b[43m)\u001b[49m\n\u001b[1;32m   1684\u001b[0m     \u001b[38;5;28;01mif\u001b[39;00m key \u001b[38;5;241m>\u001b[39m\u001b[38;5;241m=\u001b[39m len_axis \u001b[38;5;129;01mor\u001b[39;00m key \u001b[38;5;241m<\u001b[39m \u001b[38;5;241m-\u001b[39mlen_axis:\n\u001b[1;32m   1685\u001b[0m         \u001b[38;5;28;01mraise\u001b[39;00m \u001b[38;5;167;01mIndexError\u001b[39;00m(\u001b[38;5;124m\"\u001b[39m\u001b[38;5;124msingle positional indexer is out-of-bounds\u001b[39m\u001b[38;5;124m\"\u001b[39m)\n",
      "File \u001b[0;32m~/Desktop/UIC_MS/coursework/CS_418/Homework/CS_418_env/lib/python3.12/site-packages/pandas/core/indexes/base.py:909\u001b[0m, in \u001b[0;36mIndex.__len__\u001b[0;34m(self)\u001b[0m\n\u001b[1;32m    899\u001b[0m     \u001b[38;5;28;01mreturn\u001b[39;00m {\n\u001b[1;32m    900\u001b[0m         c\n\u001b[1;32m    901\u001b[0m         \u001b[38;5;28;01mfor\u001b[39;00m c \u001b[38;5;129;01min\u001b[39;00m \u001b[38;5;28mself\u001b[39m\u001b[38;5;241m.\u001b[39munique(level\u001b[38;5;241m=\u001b[39m\u001b[38;5;241m0\u001b[39m)[: get_option(\u001b[38;5;124m\"\u001b[39m\u001b[38;5;124mdisplay.max_dir_items\u001b[39m\u001b[38;5;124m\"\u001b[39m)]\n\u001b[1;32m    902\u001b[0m         \u001b[38;5;28;01mif\u001b[39;00m \u001b[38;5;28misinstance\u001b[39m(c, \u001b[38;5;28mstr\u001b[39m) \u001b[38;5;129;01mand\u001b[39;00m c\u001b[38;5;241m.\u001b[39misidentifier()\n\u001b[1;32m    903\u001b[0m     }\n\u001b[1;32m    905\u001b[0m \u001b[38;5;66;03m# --------------------------------------------------------------------\u001b[39;00m\n\u001b[1;32m    906\u001b[0m \u001b[38;5;66;03m# Array-Like Methods\u001b[39;00m\n\u001b[1;32m    907\u001b[0m \n\u001b[1;32m    908\u001b[0m \u001b[38;5;66;03m# ndarray compat\u001b[39;00m\n\u001b[0;32m--> 909\u001b[0m \u001b[38;5;28;01mdef\u001b[39;00m \u001b[38;5;21m__len__\u001b[39m(\u001b[38;5;28mself\u001b[39m) \u001b[38;5;241m-\u001b[39m\u001b[38;5;241m>\u001b[39m \u001b[38;5;28mint\u001b[39m:\n\u001b[1;32m    910\u001b[0m \u001b[38;5;250m    \u001b[39m\u001b[38;5;124;03m\"\"\"\u001b[39;00m\n\u001b[1;32m    911\u001b[0m \u001b[38;5;124;03m    Return the length of the Index.\u001b[39;00m\n\u001b[1;32m    912\u001b[0m \u001b[38;5;124;03m    \"\"\"\u001b[39;00m\n\u001b[1;32m    913\u001b[0m     \u001b[38;5;28;01mreturn\u001b[39;00m \u001b[38;5;28mlen\u001b[39m(\u001b[38;5;28mself\u001b[39m\u001b[38;5;241m.\u001b[39m_data)\n",
      "\u001b[0;31mKeyboardInterrupt\u001b[0m: "
     ]
    }
   ],
   "source": [
    "#ignore first row \n",
    "zhvi_dataset_clean = zhvi_dataset.iloc[1:,[2]+list(range(9, zhvi_dataset.shape[1]))]\n",
    "count=0\n",
    "\n",
    "for region in zhvi_dataset_clean[\"RegionName\"].unique():\n",
    "    region_data =  zhvi_dataset_clean[zhvi_dataset[\"RegionName\"]==region]#[[0]+list(range(5, zhvi_dataset.shape[1]))]\n",
    "    region_data = pd.melt(region_data, id_vars=[\"RegionName\"], var_name=\"Month\", value_name=\"Price\")\n",
    "    region_data = region_data.sort_values(by = \"Month\")\n",
    "    #region_data = region_data.iloc[-13:,:] \n",
    "    #print(region_data)\n",
    "    model = ARIMA(region_data[\"Price\"],order=(1,1,1))\n",
    "    model_trained = model.fit()\n",
    "    forecast = model_trained.forecast(steps=12)\n",
    "    future_prices = [forecast.iloc[0],forecast.iloc[2],forecast.iloc[11]]\n",
    "    zillow_region_preds = zhvf_dataset[zhvf_dataset[\"RegionName\"]==region]\n",
    "    last_known_price = int(region_data[\"Price\"].tail(1))\n",
    "    #calculate change\n",
    "    future_change_rates = [(i-last_known_price)*100/last_known_price for i in future_prices]   \n",
    "    #print(future_change_rates) \n",
    "    #print(zillow_region_preds)\n",
    "    predicted_df.loc[count,\"RegionName\"] = region\n",
    "    predicted_df.loc[count,\"time_used\"] = \"all\"\n",
    "    #print(predicted_df)\n",
    "    \n",
    "    for i in range(len(future_change_rates)):\n",
    "        if zillow_region_preds.empty:\n",
    "            continue\n",
    "        diff = abs(float(zillow_region_preds.iloc[0,1+i] - future_change_rates[i]))\n",
    "\n",
    "        sign_acc = (1 if float(zillow_region_preds.iloc[0,1+i]) * future_change_rates[i] > 0 else 0 )\n",
    "        predicted_df.iloc[count,1+i] = sign_acc\n",
    "        predicted_df.iloc[count,4+i] = diff\n",
    "        \n",
    "    count+=1\n",
    "    #print(sign_acc)predicted_df\n",
    "    #print(sign_acc)\n",
    "    #plt.figure(figsize=(10, 8))regionregion\n",
    "    #plt.plot([i for ipass in range(12)],forecast)\n",
    "    #plt.xticks(test_long['Montsign_accsign_acch'][::12], rotation=45) \n",
    "    #print(region_data[\"RegionID\"])\n",
    "    #print(last_known_price)\n",
    "\n",
    "print(predicted_df.shape)"
   ]
  },
  {
   "cell_type": "code",
   "execution_count": 319,
   "metadata": {},
   "outputs": [
    {
     "name": "stdout",
     "output_type": "stream",
     "text": [
      "(500, 8)\n"
     ]
    }
   ],
   "source": [
    "print(predicted_df.shape)"
   ]
  },
  {
   "cell_type": "code",
   "execution_count": 328,
   "metadata": {},
   "outputs": [
    {
     "name": "stdout",
     "output_type": "stream",
     "text": [
      "one_month_sign_acc    0.653846\n",
      "quarter_sign_acc      0.485904\n",
      "year_sign_acc         0.539267\n",
      "one_month_rms         0.182592\n",
      "quarter_rms           0.846986\n",
      "year_rms              1.767899\n",
      "dtype: object\n"
     ]
    }
   ],
   "source": [
    "print(predicted_df.iloc[:,1:-1].mean())"
   ]
  },
  {
   "cell_type": "code",
   "execution_count": 329,
   "metadata": {},
   "outputs": [],
   "source": [
    "predicted_df.to_csv(\"./predicted_values.csv\")"
   ]
  },
  {
   "cell_type": "code",
   "execution_count": null,
   "metadata": {},
   "outputs": [],
   "source": []
  }
 ],
 "metadata": {
  "kernelspec": {
   "display_name": "CS_418_env",
   "language": "python",
   "name": "python3"
  },
  "language_info": {
   "codemirror_mode": {
    "name": "ipython",
    "version": 3
   },
   "file_extension": ".py",
   "mimetype": "text/x-python",
   "name": "python",
   "nbconvert_exporter": "python",
   "pygments_lexer": "ipython3",
   "version": "3.12.3"
  }
 },
 "nbformat": 4,
 "nbformat_minor": 2
}
