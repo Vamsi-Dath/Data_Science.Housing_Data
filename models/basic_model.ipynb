{
 "cells": [
  {
   "cell_type": "code",
   "execution_count": 205,
   "metadata": {},
   "outputs": [],
   "source": [
    "import numpy as np \n",
    "import pandas as pd\n",
    "import matplotlib.pyplot as plt\n",
    "from statsmodels.tsa.arima.model import ARIMA\n",
    "from statsmodels.graphics.tsaplots import plot_acf, plot_pacf\n",
    "from statsmodels.tsa.stattools import adfuller\n"
   ]
  },
  {
   "cell_type": "code",
   "execution_count": null,
   "metadata": {},
   "outputs": [],
   "source": [
    "#Read dataset\n",
    "zhvi_dataset = pd.read_csv(\"../Zip(zhvf_and_zhvi)_combined/Zip_zhvi_uc_sfrcondo_tier_0.33_0.67_sm_sa_month.csv\")\n",
    "zhvi_dataset.head()"
   ]
  },
  {
   "cell_type": "code",
   "execution_count": null,
   "metadata": {},
   "outputs": [],
   "source": [
    "zhvi_dataset[\"RegionType\"].unique()"
   ]
  },
  {
   "cell_type": "code",
   "execution_count": null,
   "metadata": {},
   "outputs": [],
   "source": [
    "#seasonal trend analysis graph for how seasons effect areas"
   ]
  },
  {
   "cell_type": "code",
   "execution_count": null,
   "metadata": {},
   "outputs": [],
   "source": [
    "test_sample = zhvi_dataset.iloc[:, [0]+list(range(5, zhvi_dataset.shape[1]))]\n",
    "test_sample = test_sample[test_sample[\"RegionID\"]==394692]\n",
    "test_long = pd.melt(test_sample, id_vars=[\"RegionID\"], var_name=\"Month\", value_name=\"Price\")\n",
    "print(test_long[\"RegionID\"].unique())\n",
    "plt.figure(figsize=(12, 6))\n",
    "\n",
    "# ACF plot (AutoCorrelation Function)\n",
    "plt.subplot(121)  # 1 row, 2 columns, from statsmodels.tsa.stattools import adfuller\n",
    "plot_acf(test_long['Price'], lags=60, ax=plt.gca())  # Plot ACF for 30 lags\n",
    "\n",
    "# PACF plot (Partial AutoCorrelation Function)\n",
    "plt.subplot(122)  # 1 row, 2 columns, second plot\n",
    "plot_pacf(test_long['Price'], lags=36, ax=plt.gca())  # Plot PACF for 30 lags\n",
    "\n",
    "# Show the plots\n",
    "plt.tight_layout()  # Adjust layout to avoid overlap\n",
    "plt.show()"
   ]
  },
  {
   "cell_type": "code",
   "execution_count": null,
   "metadata": {},
   "outputs": [],
   "source": [
    "test_long = zhvi_dataset.head().head()long.sort_values(by=\"Month\")\n",
    "model = ARIMA(test_long[\"Price\"],order=(2,1,1))\n",
    "model_trained = model.fit()\n",
    "forecast = model_trained.forecast(steps=12)\n",
    "print(forecast)\n",
    "#950360"
   ]
  },
  {
   "cell_type": "code",
   "execution_count": null,
   "metadata": {},
   "outputs": [],
   "source": [
    "print((307142-307166)*100/307166)"
   ]
  },
  {
   "cell_type": "code",
   "execution_count": null,
   "metadata": {},
   "outputs": [],
   "source": [
    "plt.figure(figsize=(10, 8))\n",
    "plt.plot(test_long.iloc[:12,1],test_long.iloc[:12,2])\n",
    "#plt.xticks(test_long['Month'][::12], rotation=45) "
   ]
  },
  {
   "cell_type": "code",
   "execution_count": 120,
   "metadata": {},
   "outputs": [],
   "source": [
    "p_values = range(48,61)\n",
    "q_values = range(0,3)\n",
    "d_values = range(0,2)"
   ]
  },
  {
   "cell_type": "code",
   "execution_count": null,
   "metadata": {},
   "outputs": [],
   "source": [
    "#1 year\n",
    "#5 years\n",
    "#10 years\n",
    "#All time"
   ]
  },
  {
   "cell_type": "code",
   "execution_count": null,
   "metadata": {},
   "outputs": [],
   "source": [
    "#zvhf dataset\n",
    "zhvf_dataset = pd.read_csv(\"../Zip(zhvf_and_zhvi)_combined/Zip_zhvf_growth_uc_sfrcondo_tier_0.33_0.67_sm_sa_month.csv\")\n",
    "zhvf_dataset = zhvf_dataset.iloc[:,[2,10,11,12]]\n",
    "zhvf_dataset"
   ]
  },
  {
   "cell_type": "code",
   "execution_count": null,
   "metadata": {},
   "outputs": [],
   "source": [
    "columns = [\"RegionName\", \"one_month_sign_acc\", \"quarter_sign_acc\",\"year_sign_acc\",\"one_month_rms\",\"quarter_rms\",\"year_rms\",\"time_used\"]\n",
    "predicted_df = pd.DataFrame(columns=columns)\n",
    "#predicted_df\n"
   ]
  },
  {
   "cell_type": "code",
   "execution_count": null,
   "metadata": {},
   "outputs": [],
   "source": [
    "#ignore first row \n",
    "zhvi_dataset_clean = zhvi_dataset.iloc[1:,[2]+list(range(9, zhvi_dataset.shape[1]))]\n",
    "count=0\n",
    "\n",
    "for region in zhvi_dataset_clean[\"RegionName\"].unique():\n",
    "    region_data =  zhvi_dataset_clean[zhvi_dataset[\"RegionName\"]==region]#[[0]+list(range(5, zhvi_dataset.shape[1]))]\n",
    "    region_data = pd.melt(region_data, id_vars=[\"RegionName\"], var_name=\"Month\", value_name=\"Price\")\n",
    "    region_data = region_data.sort_values(by = \"Month\")\n",
    "    #region_data = region_data.iloc[-13:,:] \n",
    "    #print(region_data)\n",
    "    model = ARIMA(region_data[\"Price\"],order=(1,1,1))\n",
    "    model_trained = model.fit()\n",
    "    forecast = model_trained.forecast(steps=12)\n",
    "    future_prices = [forecast.iloc[0],forecast.iloc[2],forecast.iloc[11]]\n",
    "    zillow_region_preds = zhvf_dataset[zhvf_dataset[\"RegionName\"]==region]\n",
    "    last_known_price = int(region_data[\"Price\"].tail(1))\n",
    "    #calculate change\n",
    "    future_change_rates = [(i-last_known_price)*100/last_known_price for i in future_prices]   \n",
    "    #print(future_change_rates) \n",
    "    #print(zillow_region_preds)\n",
    "    predicted_df.loc[count,\"RegionName\"] = region\n",
    "    predicted_df.loc[count,\"time_used\"] = \"all\"\n",
    "    #print(predicted_df)\n",
    "    \n",
    "    for i in range(len(future_change_rates)):\n",
    "        if zillow_region_preds.empty:\n",
    "            continue\n",
    "        diff = abs(float(zillow_region_preds.iloc[0,1+i] - future_change_rates[i]))\n",
    "\n",
    "        sign_acc = (1 if float(zillow_region_preds.iloc[0,1+i]) * future_change_rates[i] > 0 else 0 )\n",
    "        predicted_df.iloc[count,1+i] = sign_acc\n",
    "        predicted_df.iloc[count,4+i] = diff\n",
    "        \n",
    "    count+=1\n",
    "    #print(sign_acc)predicted_df\n",
    "    #print(sign_acc)\n",
    "    #plt.figure(figsize=(10, 8))regionregion\n",
    "    #plt.plot([i for ipass in range(12)],forecast)\n",
    "    #plt.xticks(test_long['Montsign_accsign_acch'][::12], rotation=45) \n",
    "    #print(region_data[\"RegionID\"])\n",
    "    #print(last_known_price)\n",
    "\n",
    "print(predicted_df.shape)"
   ]
  },
  {
   "cell_type": "code",
   "execution_count": null,
   "metadata": {},
   "outputs": [],
   "source": [
    "print(predicted_df.shape)"
   ]
  },
  {
   "cell_type": "code",
   "execution_count": null,
   "metadata": {},
   "outputs": [],
   "source": [
    "print(predicted_df.iloc[:,1:-1].mean())"
   ]
  },
  {
   "cell_type": "code",
   "execution_count": 329,
   "metadata": {},
   "outputs": [],
   "source": [
    "predicted_df.to_csv(\"./predicted_values.csv\")"
   ]
  },
  {
   "cell_type": "code",
   "execution_count": null,
   "metadata": {},
   "outputs": [],
   "source": []
  }
 ],
 "metadata": {
  "kernelspec": {
   "display_name": "CS_418_env",
   "language": "python",
   "name": "python3"
  },
  "language_info": {
   "codemirror_mode": {
    "name": "ipython",
    "version": 3
   },
   "file_extension": ".py",
   "mimetype": "text/x-python",
   "name": "python",
   "nbconvert_exporter": "python",
   "pygments_lexer": "ipython3",
   "version": "3.12.3"
  }
 },
 "nbformat": 4,
 "nbformat_minor": 2
}
